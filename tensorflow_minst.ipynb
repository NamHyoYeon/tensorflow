{
 "cells": [
  {
   "cell_type": "code",
   "execution_count": 1,
   "id": "dbe24cd1",
   "metadata": {},
   "outputs": [],
   "source": [
    "from tensorflow import keras"
   ]
  },
  {
   "cell_type": "code",
   "execution_count": 2,
   "id": "2c0b401e",
   "metadata": {},
   "outputs": [],
   "source": [
    "(x_train, y_train), (x_test, y_test) = keras.datasets.mnist.load_data()"
   ]
  },
  {
   "cell_type": "code",
   "execution_count": 3,
   "id": "0aceff1c",
   "metadata": {},
   "outputs": [
    {
     "name": "stdout",
     "output_type": "stream",
     "text": [
      "(60000, 28, 28) (10000, 28, 28)\n"
     ]
    }
   ],
   "source": [
    "print(x_train.shape, x_test.shape)"
   ]
  },
  {
   "cell_type": "code",
   "execution_count": 4,
   "id": "629ce4b5",
   "metadata": {},
   "outputs": [
    {
     "name": "stdout",
     "output_type": "stream",
     "text": [
      "(60000,) (10000,)\n"
     ]
    }
   ],
   "source": [
    "print(y_train.shape, y_test.shape)"
   ]
  },
  {
   "cell_type": "code",
   "execution_count": 5,
   "id": "53f4e8a4",
   "metadata": {},
   "outputs": [
    {
     "name": "stdout",
     "output_type": "stream",
     "text": [
      "5\n",
      "0\n",
      "4\n"
     ]
    }
   ],
   "source": [
    "for i in range(3):\n",
    "    print(y_train[i])"
   ]
  },
  {
   "cell_type": "code",
   "execution_count": 6,
   "id": "7c6f8f72",
   "metadata": {},
   "outputs": [],
   "source": [
    "y_train = keras.utils.to_categorical(y_train,10)\n",
    "y_test = keras.utils.to_categorical(y_test,10)"
   ]
  },
  {
   "cell_type": "code",
   "execution_count": 9,
   "id": "65a174b3",
   "metadata": {},
   "outputs": [
    {
     "name": "stdout",
     "output_type": "stream",
     "text": [
      "[0. 0. 0. 0. 0. 1. 0. 0. 0. 0.]\n",
      "[1. 0. 0. 0. 0. 0. 0. 0. 0. 0.]\n",
      "[0. 0. 0. 0. 1. 0. 0. 0. 0. 0.]\n"
     ]
    }
   ],
   "source": [
    "for i in range(3):\n",
    "    print(y_train[i])"
   ]
  },
  {
   "cell_type": "code",
   "execution_count": 11,
   "id": "6a4c5c51",
   "metadata": {},
   "outputs": [],
   "source": [
    "x_train = x_train.reshape([60000,28*28]) # 2차원으로 변경?\n",
    "x_test = x_test.reshape([10000,28*28])"
   ]
  },
  {
   "cell_type": "code",
   "execution_count": 12,
   "id": "9350b6a6",
   "metadata": {},
   "outputs": [
    {
     "name": "stdout",
     "output_type": "stream",
     "text": [
      "(60000, 784) (10000, 784)\n"
     ]
    }
   ],
   "source": [
    "print(x_train.shape, x_test.shape)"
   ]
  },
  {
   "cell_type": "code",
   "execution_count": 44,
   "id": "ac349c27",
   "metadata": {},
   "outputs": [],
   "source": [
    "model4 = keras.Sequential()"
   ]
  },
  {
   "cell_type": "code",
   "execution_count": 45,
   "id": "fbdf96a9",
   "metadata": {},
   "outputs": [],
   "source": [
    "model4.add(keras.layers.Dense(128, activation=\"sigmoid\", input_shape=(28*28,))) #input 변수 28*28\n",
    "model4.add(keras.layers.Dense(256, activation=\"sigmoid\"))\n",
    "model4.add(keras.layers.Dense(10, activation=\"sigmoid\")) # output 개수 10개"
   ]
  },
  {
   "cell_type": "code",
   "execution_count": 46,
   "id": "c8f572e6",
   "metadata": {},
   "outputs": [],
   "source": [
    "optimizer = keras.optimizers.SGD(lr=0.1)"
   ]
  },
  {
   "cell_type": "code",
   "execution_count": 47,
   "id": "d66b9968",
   "metadata": {},
   "outputs": [],
   "source": [
    "model4.compile(optimizer=optimizer, loss=\"categorical_crossentropy\", metrics=[\"accuracy\"])"
   ]
  },
  {
   "cell_type": "code",
   "execution_count": 48,
   "id": "08dff387",
   "metadata": {},
   "outputs": [
    {
     "name": "stdout",
     "output_type": "stream",
     "text": [
      "Model: \"sequential_3\"\n",
      "_________________________________________________________________\n",
      "Layer (type)                 Output Shape              Param #   \n",
      "=================================================================\n",
      "dense_17 (Dense)             (None, 128)               100480    \n",
      "_________________________________________________________________\n",
      "dense_18 (Dense)             (None, 256)               33024     \n",
      "_________________________________________________________________\n",
      "dense_19 (Dense)             (None, 10)                2570      \n",
      "=================================================================\n",
      "Total params: 136,074\n",
      "Trainable params: 136,074\n",
      "Non-trainable params: 0\n",
      "_________________________________________________________________\n"
     ]
    }
   ],
   "source": [
    "model4.summary()"
   ]
  },
  {
   "cell_type": "code",
   "execution_count": 49,
   "id": "0f1a3cc9",
   "metadata": {},
   "outputs": [
    {
     "name": "stdout",
     "output_type": "stream",
     "text": [
      "Train on 60000 samples, validate on 10000 samples\n",
      "Epoch 1/10\n",
      "60000/60000 [==============================] - 9s 145us/sample - loss: 0.8217 - accuracy: 0.7549 - val_loss: 0.6390 - val_accuracy: 0.8101\n",
      "Epoch 2/10\n",
      "60000/60000 [==============================] - 8s 136us/sample - loss: 0.7032 - accuracy: 0.7731 - val_loss: 0.6354 - val_accuracy: 0.7918\n",
      "Epoch 3/10\n",
      "60000/60000 [==============================] - 8s 140us/sample - loss: 0.7300 - accuracy: 0.7586 - val_loss: 0.6464 - val_accuracy: 0.7912\n",
      "Epoch 4/10\n",
      "60000/60000 [==============================] - 9s 144us/sample - loss: 0.7093 - accuracy: 0.7664 - val_loss: 0.6664 - val_accuracy: 0.7704\n",
      "Epoch 5/10\n",
      "60000/60000 [==============================] - 8s 137us/sample - loss: 0.6757 - accuracy: 0.7770 - val_loss: 0.6331 - val_accuracy: 0.7966\n",
      "Epoch 6/10\n",
      "60000/60000 [==============================] - 8s 136us/sample - loss: 0.6628 - accuracy: 0.7828 - val_loss: 0.6525 - val_accuracy: 0.7904\n",
      "Epoch 7/10\n",
      "60000/60000 [==============================] - 8s 138us/sample - loss: 0.6719 - accuracy: 0.7786 - val_loss: 0.7326 - val_accuracy: 0.7569\n",
      "Epoch 8/10\n",
      "60000/60000 [==============================] - 8s 137us/sample - loss: 0.6480 - accuracy: 0.7892 - val_loss: 0.5942 - val_accuracy: 0.8076\n",
      "Epoch 9/10\n",
      "60000/60000 [==============================] - 9s 145us/sample - loss: 0.5734 - accuracy: 0.8122 - val_loss: 0.5811 - val_accuracy: 0.8038\n",
      "Epoch 10/10\n",
      "60000/60000 [==============================] - 8s 140us/sample - loss: 0.5781 - accuracy: 0.8122 - val_loss: 0.5440 - val_accuracy: 0.8228\n"
     ]
    },
    {
     "data": {
      "text/plain": [
       "<tensorflow.python.keras.callbacks.History at 0x7f842ed3bf10>"
      ]
     },
     "execution_count": 49,
     "metadata": {},
     "output_type": "execute_result"
    }
   ],
   "source": [
    "model4.fit(x_train, y_train, batch_size=32, epochs=10, validation_data=(x_test, y_test))"
   ]
  },
  {
   "cell_type": "code",
   "execution_count": null,
   "id": "1eb966b8",
   "metadata": {},
   "outputs": [],
   "source": []
  }
 ],
 "metadata": {
  "kernelspec": {
   "display_name": "Python 3",
   "language": "python",
   "name": "python3"
  },
  "language_info": {
   "codemirror_mode": {
    "name": "ipython",
    "version": 3
   },
   "file_extension": ".py",
   "mimetype": "text/x-python",
   "name": "python",
   "nbconvert_exporter": "python",
   "pygments_lexer": "ipython3",
   "version": "3.7.10"
  }
 },
 "nbformat": 4,
 "nbformat_minor": 5
}
